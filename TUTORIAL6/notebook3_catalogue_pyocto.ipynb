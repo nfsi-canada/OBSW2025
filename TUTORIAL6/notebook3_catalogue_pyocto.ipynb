{
 "cells": [
  {
   "cell_type": "markdown",
   "id": "5af8420a-6ded-4ae9-a2b6-caf5bff57d51",
   "metadata": {},
   "source": [
    "## Tutorial 8: Building an earthquake catalogue using PyOcto\n",
    "\n",
    "In this demonstration we will show how to automatically build an earthquake catalogue using SeisBench and the PyOcto associator with OBS data to create an earthquake catalog from raw waveforms. We will use example data from the [YH](https://ds.iris.edu/gmap/#network=YH&starttime=2014-01-01&endtime=2015-06-01&planet=earth) network from the HOBITSS deployment in 2014-2015.\n",
    "\n",
    "First, we import the seisbench and pyocto packages, as well as other required packages and modules to import data and make plots."
   ]
  },
  {
   "cell_type": "code",
   "execution_count": null,
   "id": "bce0159f-141d-4d24-8751-84fe3e471592",
   "metadata": {},
   "outputs": [],
   "source": [
    "# SeisBench models\n",
    "import seisbench.models as sbm\n",
    "\n",
    "# PyOcto associator\n",
    "import pyocto\n",
    "\n",
    "# ObsPy classes\n",
    "from obspy.clients.fdsn import Client\n",
    "from obspy import UTCDateTime, Stream\n",
    "\n",
    "# Other ancillary packages\n",
    "from pyproj import CRS, Transformer\n",
    "import pandas as pd\n",
    "import numpy as np\n",
    "from collections import Counter\n",
    "from tqdm import tqdm\n",
    "import matplotlib.pyplot as plt"
   ]
  },
  {
   "cell_type": "markdown",
   "id": "9710ced0-cedb-4cc6-b905-5907073f7b16",
   "metadata": {},
   "source": [
    "### Download data\n",
    "\n",
    "We download waveform data for 60 minutes from the YH network offshore northern New Zealand (HOBITSS deployment). We use October 2, 2014, which corresponds to a magnitude [4.6 earthquake](https://www.geonet.org.nz/earthquake/technical/2014p742742) in the vicinity of the HOBITSS deployment. Therefore, we expect to detect low-magnitude aftershocks in this region."
   ]
  },
  {
   "cell_type": "code",
   "execution_count": null,
   "id": "da06864d-d26b-42c6-972a-12f413ce9cf5",
   "metadata": {},
   "outputs": [],
   "source": [
    "# Initialize the FDSN client\n",
    "client = Client()\n",
    "\n",
    "# Start time in UTC at the mainshock\n",
    "t0 = UTCDateTime(\"2014-10-02T19:33:00\")\n",
    "\n",
    "# End time, 60 minutes later\n",
    "t1 = t0 + 60 * 60\n",
    "\n",
    "# Get waveform data\n",
    "stream = client.get_waveforms(network=\"YH\", station=\"*\", location=\"*\", channel=\"?H?\", starttime=t0, endtime=t1)\n",
    "\n",
    "# Get station metadata\n",
    "inv = client.get_stations(network=\"YH\", station=\"*\", location=\"*\", channel=\"?H?\", starttime=t0, endtime=t1)"
   ]
  },
  {
   "cell_type": "markdown",
   "id": "c38715e4-9b99-440e-a695-e3959a731cc0",
   "metadata": {},
   "source": [
    "### Annotate waveforms\n",
    "\n",
    "For this example, we use OBSTransformer model. However, in principle any picker could be used for obtaining the picks with only minimal changes. \n",
    "\n",
    "> Warning: This will take some time and requires sufficient main memory. If you are short on memory, reduce the study time in the cell before."
   ]
  },
  {
   "cell_type": "code",
   "execution_count": null,
   "id": "985b1c96-5aed-4565-b745-cdc295c2680f",
   "metadata": {},
   "outputs": [],
   "source": [
    "# Load the pre-trained OBSTransformer model weights\n",
    "#picker = sbm.OBSTransformer.from_pretrained('obst2024')\n",
    "picker = sbm.PickBlue()\n",
    "\n",
    "# We tuned the thresholds a bit - Feel free to play around with these values\n",
    "picks = picker.classify(stream, batch_size=256, P_threshold=0.075, S_threshold=0.1).picks\n",
    "\n",
    "# Output number of P and S picks\n",
    "Counter([p.phase for p in picks])"
   ]
  },
  {
   "cell_type": "markdown",
   "id": "06ba8606-7336-404b-b6c0-4b2fe57e13de",
   "metadata": {},
   "source": [
    "### PyOcto association\n",
    "\n",
    "The following cells configure the pyocto associator. First, we define a velocity model to use. We go for a homogeneous velocity model. While a crude approximation in a subduction zone, it still gives good association. Check out the PyOcto documentation for details on velocity models and how to use 1D models."
   ]
  },
  {
   "cell_type": "code",
   "execution_count": null,
   "id": "8c5d4ad2-e2ab-42a0-bdb6-8419b837cfd4",
   "metadata": {},
   "outputs": [],
   "source": [
    "# Define homogeneous velocity model\n",
    "velocity_model = pyocto.VelocityModel0D(\n",
    "    p_velocity=6.0,\n",
    "    s_velocity=6.0/1.75,\n",
    "    tolerance=2.0,\n",
    "    association_cutoff_distance=250,\n",
    ")"
   ]
  },
  {
   "cell_type": "markdown",
   "id": "f651c228-e556-4045-808f-d9523202a1ba",
   "metadata": {},
   "source": [
    "Next, we create the associator. We use the `from_area()` function, as it will automatically select a local coordinate projection to use for the association. In addition, we set the overlap time (`time_before`), and pick-based quality control criteria."
   ]
  },
  {
   "cell_type": "code",
   "execution_count": null,
   "id": "351f70bb-9efa-4067-aebf-b75ff4f68ba1",
   "metadata": {},
   "outputs": [],
   "source": [
    "# Configure associator parameters - here we use geographic coordinates\n",
    "# Hard coded for YH network\n",
    "associator = pyocto.OctoAssociator.from_area(\n",
    "    lat=(-39.5, -38.4),\n",
    "    lon=(178, 179.5),\n",
    "    zlim=(0, 200),\n",
    "    time_before=300,\n",
    "    velocity_model=velocity_model,\n",
    "    n_picks=5,\n",
    "    n_p_and_s_picks=2,\n",
    ")"
   ]
  },
  {
   "cell_type": "markdown",
   "id": "0e6dafdd-5751-4e2f-a2dc-4459a5073009",
   "metadata": {},
   "source": [
    "Lastly, we convert the station information from the obspy inventory to the data frame required for PyOcto."
   ]
  },
  {
   "cell_type": "code",
   "execution_count": null,
   "id": "25ad6b6c-a910-4822-8f23-264c2699796a",
   "metadata": {},
   "outputs": [],
   "source": [
    "stations = associator.inventory_to_df(inv)\n",
    "stations"
   ]
  },
  {
   "cell_type": "markdown",
   "id": "859dc83b-4674-45a0-992f-0cda155864d7",
   "metadata": {},
   "source": [
    "We now run the phase association. We use the `associate_seisbench()` function that directly takes the output of a SeisBench picking model as input. PyOcto offers further interfaces, for example, to input Pandas data frames. The association will take a moment (up to a few minutes on slower CPUs). The output are two dataframe:\n",
    "\n",
    "- `events` contains a list of all events with their location and origin times\n",
    "- `assignments` contains all picks and the event they are associated with"
   ]
  },
  {
   "cell_type": "code",
   "execution_count": null,
   "id": "7db2f05e-1faa-4514-9485-f254062ee3ee",
   "metadata": {},
   "outputs": [],
   "source": [
    "# Run the associator\n",
    "catalog, assignments = associator.associate_seisbench(picks, stations)"
   ]
  },
  {
   "cell_type": "markdown",
   "id": "e37b13fd-3920-4884-ae56-3bfd3efc5f29",
   "metadata": {},
   "source": [
    "The events currently only contain locations in a local coordinate system. Let's transform it back to latitude and longitude before inspecting the events."
   ]
  },
  {
   "cell_type": "code",
   "execution_count": null,
   "id": "d28b1a42-276c-49f7-a0dc-9903677e55f8",
   "metadata": {},
   "outputs": [],
   "source": [
    "associator.transform_events(catalog)"
   ]
  },
  {
   "cell_type": "markdown",
   "id": "bbef1d54-762b-4c1f-92de-15e732c941dc",
   "metadata": {},
   "source": [
    "### Visualizing the catalog\n",
    "\n",
    "Let's have a look at the list of events. Every event is listed with its time, local coordinates (x, y, z), the number of picks and the latitude, longitude and depth. Within the 12 hours of the example, we found over 400 event, on average one event every 100 seconds."
   ]
  },
  {
   "cell_type": "code",
   "execution_count": null,
   "id": "e41672a8-6d30-4c15-915e-b381ef8c05e8",
   "metadata": {},
   "outputs": [],
   "source": [
    "catalog"
   ]
  },
  {
   "cell_type": "markdown",
   "id": "f09a35d4-1bfe-4e1a-9080-2b980165221d",
   "metadata": {},
   "source": [
    "We can also plot the catalog. Conveniently, we already have a local transverse mercator projection available, so no need for further thought in the plotting here. We use the scatter function and encode the depth of the events using color. The plot nicely resolves the intense shallow aftershock activity. It also shows the seismicity along the Slap (West-East dipping)."
   ]
  },
  {
   "cell_type": "code",
   "execution_count": null,
   "id": "b35fe62b-8944-4ee3-a2c7-d54867fe3a20",
   "metadata": {},
   "outputs": [],
   "source": [
    "# Initialize figure\n",
    "fig = plt.figure(figsize=(10, 10))\n",
    "ax = fig.add_subplot(111)\n",
    "ax.set_aspect(\"equal\")\n",
    "\n",
    "# Show catalog events in km coordinates\n",
    "cb = ax.scatter(catalog[\"x\"], catalog[\"y\"], c=catalog[\"z\"], s=8, cmap=\"viridis\")\n",
    "\n",
    "# Add color bar for focal depth\n",
    "cbar = fig.colorbar(cb)\n",
    "cbar.ax.set_ylim(cbar.ax.get_ylim()[::-1])\n",
    "cbar.set_label(\"Depth[km]\")\n",
    "\n",
    "# Add stations\n",
    "ax.plot(stations[\"x\"], stations[\"y\"], \"r^\", ms=10, mew=1, mec=\"k\")\n",
    "ax.set_xlabel(\"Easting [km]\")\n",
    "ax.set_ylabel(\"Northing [km]\")\n",
    "plt.show()"
   ]
  },
  {
   "cell_type": "markdown",
   "id": "2e6c3a78-0403-4cfa-ac20-d7ca39c985f3",
   "metadata": {},
   "source": [
    "As a last check, we manually inspect some events. The code block below selects a random event and plots the waveforms, together with the P (solid black lines) and S (dashed black lines). The x axis denotes the time, the y axis the distance between station and estimated event location. Therefore, we should see roughly a hyperbolic moveout. Run the cell a few times to see a few example events."
   ]
  },
  {
   "cell_type": "code",
   "execution_count": null,
   "id": "2d8de1e5-7b1d-4786-8c57-cd4b3a730ade",
   "metadata": {},
   "outputs": [],
   "source": [
    "# Choose random event in catalog\n",
    "# event_idx = np.random.choice(catalog[\"idx\"])\n",
    "for event_idx in catalog[\"idx\"]:\n",
    "    \n",
    "    # Extract picks and event info for this event\n",
    "    event_picks = [picks[i] for i in assignments[assignments[\"event_idx\"] == event_idx][\"pick_idx\"]]\n",
    "    event = catalog[catalog[\"idx\"] == event_idx].iloc[0]\n",
    "    \n",
    "    # Define station dictionary for ease of plotting\n",
    "    station_dict = {station: (x, y) for station, x, y in zip(stations[\"id\"], stations[\"x\"], stations[\"y\"])}\n",
    "    \n",
    "    # Extract window to include min and max pick times according to all picks\n",
    "    first, last = min(pick.peak_time for pick in event_picks), max(pick.peak_time for pick in event_picks)\n",
    "    \n",
    "    sub = Stream()\n",
    "    \n",
    "    for station in np.unique([pick.trace_id for pick in event_picks]):\n",
    "        sub.append(stream.select(station=station[3:-1], channel=\"?HZ\")[0])\n",
    "    \n",
    "    # Initialize empty stream\n",
    "    sub = sub.slice(first - 5, last + 5)\n",
    "    \n",
    "    # Pre-process the data: detrend and high-pass filter at 2 Hz\n",
    "    sub = sub.copy()\n",
    "    sub.detrend()\n",
    "    sub.filter(\"highpass\", freq=2)\n",
    "    \n",
    "    # Initialize figure\n",
    "    fig = plt.figure(figsize=(15, 10))\n",
    "    ax = fig.add_subplot(111)\n",
    "    \n",
    "    # Plot the seismograms, ordered by total distance (hypocentral) from earthquake\n",
    "    for i, trace in enumerate(sub):\n",
    "        # Remove mean\n",
    "        normed = trace.data - np.mean(trace.data)\n",
    "        # Divide by max of absolute value\n",
    "        normed = normed / np.max(np.abs(normed))\n",
    "        # Extract x and y position of station\n",
    "        station_x, station_y = station_dict[trace.id[:-4]]\n",
    "        # Calculate euclidian hypocentral distance\n",
    "        y = np.sqrt((station_x - event[\"x\"]) ** 2 + (station_y - event[\"y\"]) ** 2 + event[\"z\"] ** 2)\n",
    "        # Plot trace at corresponding distance\n",
    "        ax.plot(trace.times(), 3 * normed + y)\n",
    "        \n",
    "    for pick in event_picks:\n",
    "        # Extract x and y position of station\n",
    "        station_x, station_y = station_dict[pick.trace_id]\n",
    "        # # Calculate euclidian hypocentral distance\n",
    "        y = np.sqrt((station_x - event[\"x\"]) ** 2 + (station_y - event[\"y\"]) ** 2 + event[\"z\"] ** 2)\n",
    "        # Calculate arrival time wrt window time\n",
    "        x = pick.peak_time - trace.stats.starttime\n",
    "        if pick.phase == \"P\":\n",
    "            ls = '-'\n",
    "        else:\n",
    "            ls = '--'\n",
    "        # Plot as vertical bars\n",
    "        ax.plot([x, x], [y - 3, y + 3], 'k', ls=ls)\n",
    "        \n",
    "    # ax.set_ylim(0)\n",
    "    ax.set_xlim(0, np.max(trace.times()))\n",
    "    ax.set_ylabel(\"Hypocentral distance [km]\")\n",
    "    ax.set_xlabel(\"Time [s]\")\n",
    "    \n",
    "    # Print out event information\n",
    "    print(\"Event information\")\n",
    "    print(event)"
   ]
  }
 ],
 "metadata": {
  "kernelspec": {
   "display_name": "Python 3 (ipykernel)",
   "language": "python",
   "name": "python3"
  },
  "language_info": {
   "codemirror_mode": {
    "name": "ipython",
    "version": 3
   },
   "file_extension": ".py",
   "mimetype": "text/x-python",
   "name": "python",
   "nbconvert_exporter": "python",
   "pygments_lexer": "ipython3",
   "version": "3.10.16"
  }
 },
 "nbformat": 4,
 "nbformat_minor": 5
}
