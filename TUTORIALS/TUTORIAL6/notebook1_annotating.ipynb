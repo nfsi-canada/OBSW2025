{
 "cells": [
  {
   "cell_type": "markdown",
   "id": "dc50e852-7fb2-480b-9f16-f07590a31b17",
   "metadata": {},
   "source": [
    "## Tutorial 6: Detecting and Picking earthquakes\n",
    "\n",
    "In this demonstration we will show how to automatically detect and pick earthquakes using OBS data. We will use example data from the [YH.LOBS6](https://ds.iris.edu/gmap/#network=YH&starttime=2014-01-01&endtime=2015-06-01&planet=earth) station from the HOBITSS deployment in 2014-2015.\n",
    "\n",
    "First, we import the seisbench package and pre-trained models, as well as other required packages and modules to import data and make plots."
   ]
  },
  {
   "cell_type": "code",
   "execution_count": null,
   "id": "89b4afe8-3eb4-4dcc-89d0-7c7d4b7dd877",
   "metadata": {},
   "outputs": [],
   "source": [
    "# SeisBench models\n",
    "import seisbench.models as sbm\n",
    "\n",
    "# ObsPy classes\n",
    "from obspy.clients.fdsn import Client\n",
    "from obspy import UTCDateTime\n",
    "\n",
    "# Numpy and Matplotlib for numerical calculations and plotting\n",
    "import numpy as np\n",
    "import matplotlib.pyplot as plt"
   ]
  },
  {
   "cell_type": "markdown",
   "id": "de2e486f-d355-4715-ba19-d4878467b7c5",
   "metadata": {},
   "source": [
    "### Load pre-trained DL models\n",
    "\n",
    "Next, we load the pre-trained [OBSTransformer](https://github.com/alirezaniki/OBSTransformer) model weights. OBSTransformer is based on the EQTransformer architecture but has been trained on additional data: `'obst2024'`, which we need to specify here. "
   ]
  },
  {
   "cell_type": "code",
   "execution_count": null,
   "id": "9dc87cc0-d7e6-4621-920c-39ab589a0169",
   "metadata": {},
   "outputs": [],
   "source": [
    "obst_model = sbm.OBSTransformer.from_pretrained('obst2024')"
   ]
  },
  {
   "cell_type": "markdown",
   "id": "d0d4ce07-ff06-4bba-bdd8-3521ab35b4e8",
   "metadata": {},
   "source": [
    "We can also load a different model (here, [PickBlue](https://agupubs.onlinelibrary.wiley.com/doi/full/10.1029/2023EA003332)) based on either the PhaseNet or EQTransformer architecture but trained using OBS data to compare the performance with OBSTransformer."
   ]
  },
  {
   "cell_type": "code",
   "execution_count": null,
   "id": "a460474e-a8e7-4660-86d5-045068d6c1b0",
   "metadata": {},
   "outputs": [],
   "source": [
    "pblue_model = sbm.PickBlue(base='EQTransformer')"
   ]
  },
  {
   "cell_type": "markdown",
   "id": "cf4ed5f3-7bf8-4e68-b110-7fecad228c0c",
   "metadata": {},
   "source": [
    "### Get waveform data\n",
    "\n",
    "We will look at one station with 4-component data (YH.LOBS6) for a 1-hour long period that includes a magnitude [4.6 earthquake](https://www.geonet.org.nz/earthquake/technical/2014p742742) in the vicinity of the HOBITSS deployment."
   ]
  },
  {
   "cell_type": "code",
   "execution_count": null,
   "id": "2be027fa-c403-4cad-b60f-f70d459261be",
   "metadata": {},
   "outputs": [],
   "source": [
    "# Initialize FDSN client - default is \"IRIS\", where the YH data are stored.\n",
    "client = Client()\n",
    "\n",
    "# Define the start time in UTC\n",
    "t = UTCDateTime(2014, 10, 2, 19, 33)\n",
    "\n",
    "# Get waveform data\n",
    "stream = client.get_waveforms(network=\"YH\", station=\"LOBS6\", location=\"*\", channel=\"HH?\", starttime=t, endtime=t+1200)"
   ]
  },
  {
   "cell_type": "markdown",
   "id": "6620dcf3-97d7-43a4-bbb2-81e2d9a5d72b",
   "metadata": {},
   "source": [
    "Make a figure of the 4-component data, filtered between 1 and 10 Hz."
   ]
  },
  {
   "cell_type": "code",
   "execution_count": null,
   "id": "90397ff0-9545-40d5-92bb-379f63fe869c",
   "metadata": {},
   "outputs": [],
   "source": [
    "# Initialize the figure and add a single subplot\n",
    "fig = plt.figure(figsize=(20, 5))\n",
    "ax = fig.add_subplot(111)\n",
    "\n",
    "# Loop over the 3 components (traces) in the stream and plot them\n",
    "for i in range(3):\n",
    "    ax.plot(stream[i].times(), stream[i].filter('bandpass', freqmin=1., freqmax=10.).data, label=stream[i].stats.channel)\n",
    "\n",
    "# Add a legend\n",
    "ax.legend();"
   ]
  },
  {
   "cell_type": "markdown",
   "id": "e204451d-f4e9-47e6-b18d-818c02501d59",
   "metadata": {},
   "source": [
    "### Annotate waveforms (i.e., predict earthquake detection windows and phase picks)\n",
    "\n",
    "This task is as simple as calling the `annotate()` method using the stream of data with the corresponding DL model."
   ]
  },
  {
   "cell_type": "code",
   "execution_count": null,
   "id": "df753a70-e711-42b6-a681-c140ee1cc38e",
   "metadata": {},
   "outputs": [],
   "source": [
    "# OBSTransformer model\n",
    "obst_preds = obst_model.annotate(stream)\n",
    "\n",
    "# PickBlue model\n",
    "pblue_preds = pblue_model.annotate(stream)"
   ]
  },
  {
   "cell_type": "markdown",
   "id": "d1ccbd2b-aa9b-45ee-98dd-017eba1f1d00",
   "metadata": {},
   "source": [
    "Next, we visualize the annotations by plotting the probabilities in 5-minute slices."
   ]
  },
  {
   "cell_type": "code",
   "execution_count": null,
   "id": "ee476921-1875-4774-a6db-8446587e4c69",
   "metadata": {},
   "outputs": [],
   "source": [
    "# Length of window slice in seconds\n",
    "wlength = 5 * 60"
   ]
  },
  {
   "cell_type": "markdown",
   "id": "b7cff3ba-dc85-4fb7-80fc-5005dbc99c9d",
   "metadata": {},
   "source": [
    "Now we make the plot and compare the predictions between OBSTransformer and PickBlue"
   ]
  },
  {
   "cell_type": "code",
   "execution_count": null,
   "id": "05413558-7cad-4ab7-8e40-4009057276ed",
   "metadata": {},
   "outputs": [],
   "source": [
    "# Assign colors to different predictions (P and S pick, detection window)\n",
    "color_dict = {\"P\": \"C0\", \"S\": \"C1\", \"Detection\": \"C2\"}\n",
    "\n",
    "# Cycle over all times in stream by increments of `wlength`\n",
    "for s in range(0, int(stream[0].stats.endtime - stream[0].stats.starttime), wlength):\n",
    "\n",
    "    # Start time of window\n",
    "    t0 = stream[0].stats.starttime + s\n",
    "    # End time of window\n",
    "    t1 = t0 + wlength\n",
    "\n",
    "    # Extract seismogram within slice and filter\n",
    "    subst = stream.slice(t0, t1).filter('bandpass', freqmin=2., freqmax=10., corners=2, zerophase=True)\n",
    "\n",
    "    # Initialize figure\n",
    "    fig, ax = plt.subplots(3, 1, figsize=(15, 5), sharex=True, gridspec_kw={'hspace' : 0.05, 'height_ratios': [2, 1, 1]})\n",
    "\n",
    "    # Plot predictions from 2 different models\n",
    "    for i, preds in enumerate([obst_preds, pblue_preds]):\n",
    "\n",
    "        # Slice predictions using the same window\n",
    "        subpreds = preds.slice(t0, t1)\n",
    "        # Subtract to get exact offset\n",
    "        offset = subpreds[0].stats.starttime - subst[0].stats.starttime\n",
    "        # Extract each prediction type\n",
    "        for pred_trace in subpreds:\n",
    "            model, pred_class = pred_trace.stats.channel.split(\"_\")\n",
    "            if pred_class == \"N\":\n",
    "                # Skip noise traces\n",
    "                continue\n",
    "            c = color_dict[pred_class]\n",
    "            # Plot prediction\n",
    "            ax[i + 1].plot(offset + pred_trace.times(), pred_trace.data, label=pred_class, c=c)\n",
    "        ax[i + 1].set_ylabel(model)\n",
    "        ax[i + 1].legend(loc=2)\n",
    "        ax[i + 1].set_ylim(0, 1.1)\n",
    "\n",
    "    # Now plot the seismogram for each slice\n",
    "    ax[0].plot(subst[-1].times(), subst[-1].data / np.amax(subst[-1].data), 'k', label=subst[-1].stats.channel, lw=0.5)\n",
    "    ax[0].set_xlim(0, wlength)\n",
    "    ax[0].set_ylabel('Normalised Amplitude')\n",
    "    ax[2].set_xlabel('Time [s]')\n",
    "    ax[0].legend(loc=2)\n",
    "    plt.show()"
   ]
  },
  {
   "cell_type": "code",
   "execution_count": null,
   "id": "e1cb6539-e5d8-4cac-b168-efb63cb83668",
   "metadata": {},
   "outputs": [],
   "source": []
  }
 ],
 "metadata": {
  "kernelspec": {
   "display_name": "Python 3 (ipykernel)",
   "language": "python",
   "name": "python3"
  },
  "language_info": {
   "codemirror_mode": {
    "name": "ipython",
    "version": 3
   },
   "file_extension": ".py",
   "mimetype": "text/x-python",
   "name": "python",
   "nbconvert_exporter": "python",
   "pygments_lexer": "ipython3",
   "version": "3.10.16"
  }
 },
 "nbformat": 4,
 "nbformat_minor": 5
}
